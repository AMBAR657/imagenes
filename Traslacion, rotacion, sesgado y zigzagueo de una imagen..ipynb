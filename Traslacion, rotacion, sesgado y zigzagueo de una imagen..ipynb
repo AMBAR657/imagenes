{
 "cells": [
  {
   "cell_type": "code",
   "execution_count": null,
   "id": "7ee5f45e",
   "metadata": {},
   "outputs": [],
   "source": [
    "pip install pillow"
   ]
  },
  {
   "cell_type": "code",
   "execution_count": 1,
   "id": "184c0bdf",
   "metadata": {},
   "outputs": [],
   "source": [
    "from PIL import Image\n",
    "import numpy as np\n",
    "\n",
    "# Cargar la imagen\n",
    "image = Image.open('Dataseturl/ambar15.jpg')\n",
    "\n",
    "# 1. Rotación\n",
    "rotated_image = image.rotate(170)\n",
    "\n",
    "# 2. Traslación (Desplazamiento)\n",
    "\n",
    "translation_matrix = (1, 0, 100, 0, 1, 50) \n",
    "translated_image = image.transform(image.size, Image.AFFINE, translation_matrix)\n",
    "\n",
    "# 3. Escalamiento\n",
    "\n",
    "scaled_image = image.resize((int(image.width * 0.5), int(image.height * 0.5)))\n",
    "\n",
    "# 4. Cizallamiento (Zizayado)\n",
    "\n",
    "shear_matrix = (1, 0.5, 0, 0, 1, 0)  # Cizallamiento horizontal\n",
    "sheared_image = image.transform(image.size, Image.AFFINE, shear_matrix)\n",
    "\n",
    "# Mostrar las imágenes transformadas\n",
    "rotated_image.show()\n",
    "translated_image.show()\n",
    "scaled_image.show()\n",
    "sheared_image.show()\n"
   ]
  },
  {
   "cell_type": "code",
   "execution_count": null,
   "id": "331ac250",
   "metadata": {},
   "outputs": [],
   "source": []
  },
  {
   "cell_type": "code",
   "execution_count": null,
   "id": "1156b747",
   "metadata": {},
   "outputs": [],
   "source": []
  }
 ],
 "metadata": {
  "kernelspec": {
   "display_name": "Python 3 (ipykernel)",
   "language": "python",
   "name": "python3"
  },
  "language_info": {
   "codemirror_mode": {
    "name": "ipython",
    "version": 3
   },
   "file_extension": ".py",
   "mimetype": "text/x-python",
   "name": "python",
   "nbconvert_exporter": "python",
   "pygments_lexer": "ipython3",
   "version": "3.11.5"
  }
 },
 "nbformat": 4,
 "nbformat_minor": 5
}
